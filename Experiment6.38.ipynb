{
  "cells": [
    {
      "cell_type": "markdown",
      "metadata": {
        "id": "yVur-JjhOZ_K"
      },
      "source": [
        "** Nandini Nikam S2-38**\n"
      ]
    },
    {
      "cell_type": "markdown",
      "metadata": {
        "id": "9iIimRYUOguR"
      },
      "source": [
        "# Importing"
      ]
    },
    {
      "cell_type": "code",
      "execution_count": 23,
      "metadata": {
        "id": "kX9W-j8QOanC"
      },
      "outputs": [],
      "source": [
        "import sqlite3"
      ]
    },
    {
      "cell_type": "markdown",
      "metadata": {
        "id": "pvKqSOoUOefJ"
      },
      "source": [
        "# Connecting to Database"
      ]
    },
    {
      "cell_type": "code",
      "execution_count": 24,
      "metadata": {
        "id": "THHmCgLaOnSp"
      },
      "outputs": [],
      "source": [
        "connection = sqlite3.connect ('./genericDatabase.db')\n",
        "cursor = connection.cursor ()"
      ]
    },
    {
      "cell_type": "markdown",
      "metadata": {
        "id": "wDNrM2WLOqvB"
      },
      "source": [
        "# Create Table"
      ]
    },
    {
      "cell_type": "code",
      "execution_count": 25,
      "metadata": {
        "id": "j8smRXsnOtsR"
      },
      "outputs": [],
      "source": [
        "cursor.execute('''\n",
        "    CREATE TABLE IF NOT EXISTS students (\n",
        "        id INTEGER PRIMARY KEY AUTOINCREMENT,\n",
        "        name TEXT NOT NULL,\n",
        "        age INTEGER NOT NULL\n",
        "    )\n",
        "''')\n",
        "\n",
        "connection.commit()"
      ]
    },
    {
      "cell_type": "markdown",
      "metadata": {
        "id": "x4XB1EMXOzWB"
      },
      "source": [
        "# CRUD Operations"
      ]
    },
    {
      "cell_type": "markdown",
      "metadata": {
        "id": "z3zwnoepY_BL"
      },
      "source": [
        "\n",
        "# Create (Insertion)"
      ]
    },
    {
      "cell_type": "code",
      "execution_count": 26,
      "metadata": {
        "colab": {
          "base_uri": "https://localhost:8080/"
        },
        "id": "NcmpqRnxO1hx",
        "outputId": "811dd272-42df-47b4-81fd-1f0b44909461"
      },
      "outputs": [
        {
          "name": "stdout",
          "output_type": "stream",
          "text": [
            "Record added successfully!\n",
            "Record added successfully!\n"
          ]
        }
      ],
      "source": [
        "def create_student(name, age):\n",
        "    cursor.execute('''\n",
        "        INSERT INTO students (name, age)\n",
        "        VALUES (?, ?)\n",
        "    ''', (name, age))\n",
        "    connection.commit()\n",
        "    print(\"Record added successfully!\")\n",
        "\n",
        "create_student(\"Griffith\", 20)\n",
        "create_student(\"Guts\", 22)"
      ]
    },
    {
      "cell_type": "markdown",
      "metadata": {
        "id": "vjJChtuBO8XC"
      },
      "source": [
        "# Read (Retrieve)"
      ]
    },
    {
      "cell_type": "code",
      "execution_count": 29,
      "metadata": {
        "colab": {
          "base_uri": "https://localhost:8080/"
        },
        "id": "ERjRxKpYO9KB",
        "outputId": "150f5cc7-fd53-4840-b218-b1847e085afe"
      },
      "outputs": [
        {
          "name": "stdout",
          "output_type": "stream",
          "text": [
            "Student Records:\n",
            "(1, 'Griffith', 20)\n",
            "(2, 'Guts', 22)\n",
            "(3, 'Griffith', 20)\n"
          ]
        }
      ],
      "source": [
        "def read_students():\n",
        "    cursor.execute('SELECT * FROM students')\n",
        "    rows = cursor.fetchall()\n",
        "    print(\"Student Records:\")\n",
        "    for row in rows:\n",
        "        print(row)\n",
        "\n",
        "read_students()"
      ]
    },
    {
      "cell_type": "markdown",
      "metadata": {
        "id": "OfIM5GepPE55"
      },
      "source": [
        "# Update"
      ]
    },
    {
      "cell_type": "code",
      "execution_count": 31,
      "metadata": {
        "colab": {
          "base_uri": "https://localhost:8080/"
        },
        "id": "lLW7shIuPFZa",
        "outputId": "05d41f95-7558-4b2f-d8b8-f8756b778ced"
      },
      "outputs": [
        {
          "name": "stdout",
          "output_type": "stream",
          "text": [
            "Student age updated successfully!\n",
            "Student Records:\n",
            "(1, 'Griffith', 21)\n",
            "(2, 'Guts', 22)\n",
            "(3, 'Griffith', 20)\n"
          ]
        }
      ],
      "source": [
        "\n",
        "def update_student_age(student_id, new_age):\n",
        "    # Re-establish the connection since it was closed earlier\n",
        "    connection = sqlite3.connect('./genericDatabase.db')\n",
        "    cursor = connection.cursor()\n",
        "\n",
        "    cursor.execute('''UPDATE students SET age = ? WHERE id = ?''', (new_age, student_id))\n",
        "    connection.commit()\n",
        "    print(\"Student age updated successfully!\" if cursor.rowcount else \"No student found with this ID.\")\n",
        "\n",
        "update_student_age(1, 21)\n",
        "read_students()\n"
      ]
    },
    {
      "cell_type": "markdown",
      "metadata": {
        "id": "pfWe8acBPKEJ"
      },
      "source": [
        "# Delete"
      ]
    },
    {
      "cell_type": "code",
      "execution_count": 33,
      "metadata": {
        "colab": {
          "base_uri": "https://localhost:8080/"
        },
        "id": "86Uhbi4EPuAx",
        "outputId": "1d12de07-2032-4d81-cacd-ad98109f8641"
      },
      "outputs": [
        {
          "name": "stdout",
          "output_type": "stream",
          "text": [
            "Student deleted successfully!\n",
            "Student Records:\n",
            "(1, 'Griffith', 21)\n",
            "(3, 'Griffith', 20)\n"
          ]
        }
      ],
      "source": [
        "def delete_student(student_id):\n",
        "    cursor.execute ('''DELETE FROM students WHERE id = ? ''', (student_id,)) # Added SQL query with placeholder for student_id\n",
        "    connection.commit()\n",
        "    print(\"Student deleted successfully!\")\n",
        "\n",
        "delete_student(2)\n",
        "read_students()"
      ]
    },
    {
      "cell_type": "markdown",
      "metadata": {
        "id": "cchDY9m-PvdB"
      },
      "source": [
        "# Closing the database connection"
      ]
    },
    {
      "cell_type": "code",
      "execution_count": 11,
      "metadata": {
        "id": "uAK0j_qmPwCR"
      },
      "outputs": [],
      "source": [
        "connection.close ()"
      ]
    }
  ],
  "metadata": {
    "colab": {
      "provenance": []
    },
    "kernelspec": {
      "display_name": "Python 3",
      "name": "python3"
    },
    "language_info": {
      "name": "python"
    }
  },
  "nbformat": 4,
  "nbformat_minor": 0
}
