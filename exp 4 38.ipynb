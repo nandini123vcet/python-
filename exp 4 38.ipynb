{
  "nbformat": 4,
  "nbformat_minor": 0,
  "metadata": {
    "colab": {
      "provenance": []
    },
    "kernelspec": {
      "name": "python3",
      "display_name": "Python 3"
    },
    "language_info": {
      "name": "python"
    }
  },
  "cells": [
    {
      "cell_type": "markdown",
      "source": [
        "###nandini nikam\n",
        "s2-38"
      ],
      "metadata": {
        "id": "UltGY-b_TjXY"
      }
    },
    {
      "cell_type": "code",
      "execution_count": 1,
      "metadata": {
        "colab": {
          "base_uri": "https://localhost:8080/"
        },
        "id": "EjTjK3s-TZ4M",
        "outputId": "df1309bb-2e83-4d1e-8c51-ee7cd57f55fa"
      },
      "outputs": [
        {
          "output_type": "stream",
          "name": "stdout",
          "text": [
            "Files in the current directory:\n"
          ]
        }
      ],
      "source": [
        "import os\n",
        "files = [f for f in os.listdir('.') if os.path.isfile(f)]\n",
        "print(\"Files in the current directory:\")\n",
        "for file in files:\n",
        "    print(file)"
      ]
    },
    {
      "cell_type": "code",
      "source": [
        "from pathlib import Path\n",
        "file = Path('.')\n",
        "files_in_directory = [f for f in file.iterdir() if f.is_file()]\n",
        "print(\"Files in the current directory:\")\n",
        "for file in files_in_directory:\n",
        "    print(file.name)"
      ],
      "metadata": {
        "colab": {
          "base_uri": "https://localhost:8080/"
        },
        "id": "LVYKCoitThhZ",
        "outputId": "fb06ac66-3d92-47ac-bae7-2e4f73cfc4df"
      },
      "execution_count": 2,
      "outputs": [
        {
          "output_type": "stream",
          "name": "stdout",
          "text": [
            "Files in the current directory:\n"
          ]
        }
      ]
    }
  ]
}